{
 "cells": [
  {
   "cell_type": "code",
   "execution_count": null,
   "metadata": {},
   "outputs": [],
   "source": [
    "import pandas as pd\n",
    "import numpy as np\n",
    "import scipy.sparse as sparse\n",
    "import os\n",
    "import implicit"
   ]
  },
  {
   "cell_type": "code",
   "execution_count": null,
   "metadata": {},
   "outputs": [],
   "source": [
    "data_path = 'data/'                         #Загружаем данные\n",
    "data_1 = 'data_learn_match.csv'\n",
    "data_2 = 'data_test_match.csv'\n",
    "data_3 = 'data_target_thread.csv'\n",
    "raw_data = pd.read_csv(os.path.join(data_path, data_1), header=None)\n",
    "raw_data.drop(raw_data.columns[2:4], axis=1, inplace=True)\n",
    "raw_data['values'] = 1\n",
    "raw_data"
   ]
  },
  {
   "cell_type": "code",
   "execution_count": null,
   "metadata": {},
   "outputs": [],
   "source": [
    "raw_data.columns = ['user_uid', 'thread_uid', 'values']\n",
    "data = raw_data.copy()"
   ]
  },
  {
   "cell_type": "code",
   "execution_count": null,
   "metadata": {},
   "outputs": [],
   "source": [
    "list_match_user = data['user_uid'].unique()  #создаем список уникальных пользователей"
   ]
  },
  {
   "cell_type": "code",
   "execution_count": null,
   "metadata": {},
   "outputs": [],
   "source": [
    "list_match_thread = data['thread_uid'].unique()  #создаем список уникальных складчин"
   ]
  },
  {
   "cell_type": "code",
   "execution_count": null,
   "metadata": {},
   "outputs": [],
   "source": [
    "raw_data_2 = pd.read_csv(os.path.join(data_path, data_2), header=None)\n",
    "raw_data_2['values'] = 1"
   ]
  },
  {
   "cell_type": "code",
   "execution_count": null,
   "metadata": {},
   "outputs": [],
   "source": [
    "raw_data_2.columns = ['user_uid_test', 'thread_uid_test', 'values']\n",
    "data_2 = raw_data_2.copy()\n",
    "data_2"
   ]
  },
  {
   "cell_type": "code",
   "execution_count": null,
   "metadata": {},
   "outputs": [],
   "source": [
    "list_test_user = data_2['user_uid_test'].unique()  #аналогично, только на тестовом наборе"
   ]
  },
  {
   "cell_type": "code",
   "execution_count": null,
   "metadata": {},
   "outputs": [],
   "source": [
    "list_test_thread = data_2['thread_uid_test'].unique()"
   ]
  },
  {
   "cell_type": "code",
   "execution_count": null,
   "metadata": {},
   "outputs": [],
   "source": [
    "data_threads_test = pd.read_csv(os.path.join(data_path, data_3), header=None)\n",
    "data_threads_test.columns = ['thread_uid_test']\n",
    "data_threads_test"
   ]
  },
  {
   "cell_type": "code",
   "execution_count": null,
   "metadata": {},
   "outputs": [],
   "source": [
    "data_threads_test = data_threads_test['thread_uid_test']"
   ]
  },
  {
   "cell_type": "code",
   "execution_count": null,
   "metadata": {},
   "outputs": [],
   "source": [
    "data_threads_filter = list(set(list_match_thread).difference(data_threads_test)) #список для отсева неактуальных складчин"
   ]
  },
  {
   "cell_type": "code",
   "execution_count": null,
   "metadata": {},
   "outputs": [],
   "source": [
    "list_test_user.sort()"
   ]
  },
  {
   "cell_type": "code",
   "execution_count": null,
   "metadata": {},
   "outputs": [],
   "source": [
    "sparse_item_user = sparse.csr_matrix((data['values'].astype(float), (data['thread_uid'], data['user_uid'])))\n",
    "sparse_user_item = sparse.csr_matrix((data['values'].astype(float), (data['user_uid'], data['thread_uid'])))"
   ]
  },
  {
   "cell_type": "code",
   "execution_count": null,
   "metadata": {},
   "outputs": [],
   "source": [
    "sparse_user_item.shape"
   ]
  },
  {
   "cell_type": "code",
   "execution_count": null,
   "metadata": {},
   "outputs": [],
   "source": [
    "#СОбственно, сама модель и ее обучение. \n",
    "model = implicit.als.AlternatingLeastSquares(factors=2000, regularization=0.01, iterations=30)\n",
    "alpha_val = 4\n",
    "data_conf = (sparse_item_user*alpha_val).astype('double')\n",
    "model.fit(data_conf)"
   ]
  },
  {
   "cell_type": "code",
   "execution_count": null,
   "metadata": {
    "scrolled": true
   },
   "outputs": [],
   "source": [
    "#Рекомендации. Для каждого пользователя предсказываем 50 складчин (отфильтровав старые), затем фильтруем результаты по медиане.\n",
    "rec = []\n",
    "scores = []\n",
    "for userid in list_test_user:\n",
    "    recommended = model.recommend(userid, sparse_user_item, N=50, filter_already_liked_items = True, filter_items = data_threads_filter)\n",
    "    for score in recommended:\n",
    "        scores.append(score[1])\n",
    "    median = np.median(scores)\n",
    "    condition = lambda x: x[1] >= median\n",
    "    filtered_recommended = list(filter(condition, recommended))\n",
    "    recommended_1 = [x[0] for x in filtered_recommended]\n",
    "    rec.append(recommended_1)\n",
    "rec"
   ]
  },
  {
   "cell_type": "markdown",
   "metadata": {},
   "source": [
    "Далее собственно обработка результатов, подсчет метрик. Для каждого юзера создается список складчин из тестового набора и список из предсказанных. Пересечение этих списков деленое на длину списка предсказаний = precision, деленое на длину списка из тестового набора = recall."
   ]
  },
  {
   "cell_type": "code",
   "execution_count": null,
   "metadata": {},
   "outputs": [],
   "source": [
    "data_2['columns'] = data_2.groupby('user_uid_test')['thread_uid_test'].cumcount()"
   ]
  },
  {
   "cell_type": "code",
   "execution_count": null,
   "metadata": {},
   "outputs": [],
   "source": [
    "result = data_2.pivot(index='user_uid_test', columns='columns')"
   ]
  },
  {
   "cell_type": "code",
   "execution_count": null,
   "metadata": {},
   "outputs": [],
   "source": [
    "result[0:3]"
   ]
  },
  {
   "cell_type": "code",
   "execution_count": null,
   "metadata": {},
   "outputs": [],
   "source": [
    "result.drop(['values'], axis=1, inplace=True)"
   ]
  },
  {
   "cell_type": "code",
   "execution_count": null,
   "metadata": {},
   "outputs": [],
   "source": [
    "result['concat_col']=result.apply(lambda row: row.dropna().tolist(), axis=1)"
   ]
  },
  {
   "cell_type": "code",
   "execution_count": null,
   "metadata": {},
   "outputs": [],
   "source": [
    "result['concat_col']"
   ]
  },
  {
   "cell_type": "code",
   "execution_count": null,
   "metadata": {},
   "outputs": [],
   "source": [
    "df_test_threads = result[['concat_col']]\n",
    "df_test_threads"
   ]
  },
  {
   "cell_type": "code",
   "execution_count": null,
   "metadata": {},
   "outputs": [],
   "source": [
    "df_test_threads['predict'] = rec"
   ]
  },
  {
   "cell_type": "code",
   "execution_count": null,
   "metadata": {},
   "outputs": [],
   "source": [
    "df_test_threads"
   ]
  },
  {
   "cell_type": "code",
   "execution_count": null,
   "metadata": {},
   "outputs": [],
   "source": [
    "relev = []\n",
    "for x in range(df_test_threads.shape[0]):\n",
    "    A = list(set(df_test_threads['concat_col'].iloc[x]) & set(df_test_threads['predict'].iloc[x]))\n",
    "    relev.append(len(A))"
   ]
  },
  {
   "cell_type": "code",
   "execution_count": null,
   "metadata": {},
   "outputs": [],
   "source": [
    "df_test_threads['relevant'] = relev"
   ]
  },
  {
   "cell_type": "code",
   "execution_count": null,
   "metadata": {},
   "outputs": [],
   "source": [
    "df_test_threads"
   ]
  },
  {
   "cell_type": "code",
   "execution_count": null,
   "metadata": {},
   "outputs": [],
   "source": [
    "df_test_threads['len_concat'] = df_test_threads['concat_col'].apply(lambda x: len(x))\n",
    "df_test_threads['len_predict'] = df_test_threads['predict'].apply(lambda x: len(x))"
   ]
  },
  {
   "cell_type": "code",
   "execution_count": null,
   "metadata": {},
   "outputs": [],
   "source": [
    "df_test_threads['precision'] = df_test_threads['relevant']/df_test_threads['len_predict']\n",
    "df_test_threads['recall'] = df_test_threads['relevant']/df_test_threads['len_concat']"
   ]
  },
  {
   "cell_type": "code",
   "execution_count": null,
   "metadata": {},
   "outputs": [],
   "source": [
    "list_drop = list(set(list_test_user).difference(list_match_user))"
   ]
  },
  {
   "cell_type": "code",
   "execution_count": null,
   "metadata": {},
   "outputs": [],
   "source": [
    "list_drop"
   ]
  },
  {
   "cell_type": "code",
   "execution_count": null,
   "metadata": {},
   "outputs": [],
   "source": [
    "df_test_threads_f = df_test_threads.drop(list_drop, axis = 0)\n",
    "df_test_threads_f[0:15]"
   ]
  },
  {
   "cell_type": "code",
   "execution_count": null,
   "metadata": {},
   "outputs": [],
   "source": [
    "Precision = df_test_threads_f[['precision']].mean()\n",
    "Precision"
   ]
  },
  {
   "cell_type": "code",
   "execution_count": null,
   "metadata": {},
   "outputs": [],
   "source": [
    "Recall = df_test_threads_f[['recall']].mean()\n",
    "Recall"
   ]
  },
  {
   "cell_type": "code",
   "execution_count": null,
   "metadata": {},
   "outputs": [],
   "source": []
  }
 ],
 "metadata": {
  "kernelspec": {
   "display_name": "Python 3",
   "language": "python",
   "name": "python3"
  },
  "language_info": {
   "codemirror_mode": {
    "name": "ipython",
    "version": 3
   },
   "file_extension": ".py",
   "mimetype": "text/x-python",
   "name": "python",
   "nbconvert_exporter": "python",
   "pygments_lexer": "ipython3",
   "version": "3.7.6"
  }
 },
 "nbformat": 4,
 "nbformat_minor": 4
}
