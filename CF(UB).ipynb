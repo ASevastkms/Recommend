{
 "cells": [
  {
   "cell_type": "code",
   "execution_count": null,
   "metadata": {},
   "outputs": [],
   "source": [
    "import pandas as pd\n",
    "import numpy as np\n",
    "import scipy.sparse as sparse\n",
    "import heapq\n",
    "import os\n",
    "from sklearn.metrics.pairwise import cosine_similarity\n",
    "from tqdm import tqdm"
   ]
  },
  {
   "cell_type": "code",
   "execution_count": null,
   "metadata": {},
   "outputs": [],
   "source": [
    "data_path = 'data/'                         \n",
    "data_1 = 'data_learn_match.csv'\n",
    "data_2 = 'data_test_match.csv'\n",
    "data_3 = 'data_target_thread.csv'\n",
    "raw_data = pd.read_csv(os.path.join(data_path, data_1), header=None)\n",
    "raw_data.drop(raw_data.columns[2:3], axis=1, inplace=True)\n",
    "raw_data['values'] = 1"
   ]
  },
  {
   "cell_type": "code",
   "execution_count": null,
   "metadata": {},
   "outputs": [],
   "source": [
    "raw_data.columns = ['user_uid', 'thread_uid', 'match_date', 'values']"
   ]
  },
  {
   "cell_type": "code",
   "execution_count": null,
   "metadata": {},
   "outputs": [],
   "source": [
    "raw_data['values'] = 15552000/(15552000 + 1570136400 - raw_data['match_date'])"
   ]
  },
  {
   "cell_type": "code",
   "execution_count": null,
   "metadata": {},
   "outputs": [],
   "source": [
    "input_list_1 = raw_data['user_uid'].unique()\n",
    "\n",
    "def scale_user_uid(input_uid):\n",
    "    return np.where(input_list_1 == input_uid)[0][0]\n",
    "\n",
    "raw_data['user_uid_renumber'] = raw_data['user_uid'].apply(scale_user_uid)"
   ]
  },
  {
   "cell_type": "code",
   "execution_count": null,
   "metadata": {},
   "outputs": [],
   "source": [
    "data_mini = raw_data.copy()"
   ]
  },
  {
   "cell_type": "code",
   "execution_count": null,
   "metadata": {},
   "outputs": [],
   "source": [
    "n_users = data_mini['user_uid'].unique().shape[0]\n",
    "n_items = data_mini['thread_uid'].unique().shape[0]"
   ]
  },
  {
   "cell_type": "code",
   "execution_count": null,
   "metadata": {},
   "outputs": [],
   "source": [
    "raw_data_2 = pd.read_csv(os.path.join(data_path, data_2), header=None)"
   ]
  },
  {
   "cell_type": "code",
   "execution_count": null,
   "metadata": {},
   "outputs": [],
   "source": [
    "raw_data_2.columns = ['user_uid_test', 'thread_uid_test']\n",
    "data_2 = raw_data_2.copy()"
   ]
  },
  {
   "cell_type": "code",
   "execution_count": null,
   "metadata": {},
   "outputs": [],
   "source": [
    "raw_data_3 = pd.read_csv(os.path.join(data_path, data_3), header=None)"
   ]
  },
  {
   "cell_type": "code",
   "execution_count": null,
   "metadata": {},
   "outputs": [],
   "source": [
    "raw_data_3.columns = ['thread_uid_test']\n",
    "data_3 = raw_data_3.copy()\n",
    "list_test_threads = data_3['thread_uid_test'].unique().tolist()"
   ]
  },
  {
   "cell_type": "code",
   "execution_count": null,
   "metadata": {},
   "outputs": [],
   "source": [
    "list_test_user = data_2['user_uid_test'].unique()\n",
    "list_match_user = data_mini['user_uid'].unique()"
   ]
  },
  {
   "cell_type": "code",
   "execution_count": null,
   "metadata": {},
   "outputs": [],
   "source": [
    "list_drop = list(set(list_test_user).difference(list_match_user))"
   ]
  },
  {
   "cell_type": "code",
   "execution_count": null,
   "metadata": {},
   "outputs": [],
   "source": [
    "list_test = [x for x in list_test_user if x not in list_drop]"
   ]
  },
  {
   "cell_type": "code",
   "execution_count": null,
   "metadata": {},
   "outputs": [],
   "source": [
    "list_test.sort()"
   ]
  },
  {
   "cell_type": "code",
   "execution_count": null,
   "metadata": {},
   "outputs": [],
   "source": [
    "list_user = list_match_user.tolist()"
   ]
  },
  {
   "cell_type": "code",
   "execution_count": null,
   "metadata": {},
   "outputs": [],
   "source": [
    "list_of_idx = []\n",
    "for user in tqdm(list_test):\n",
    "    idx = list_user.index(user)\n",
    "    list_of_idx.append(idx)"
   ]
  },
  {
   "cell_type": "code",
   "execution_count": null,
   "metadata": {},
   "outputs": [],
   "source": [
    "sparse_user_item = sparse.csr_matrix((data_mini['values'].astype(float), (data_mini['user_uid_renumber'], data_mini['thread_uid'])))"
   ]
  },
  {
   "cell_type": "code",
   "execution_count": null,
   "metadata": {},
   "outputs": [],
   "source": [
    "sim_cos = []\n",
    "for i in tqdm(list_of_idx):\n",
    "    similarities = cosine_similarity(sparse_user_item, sparse_user_item[i:i+1]).reshape(sparse_user_item.shape[0],)\n",
    "    sim_cos.append(similarities)"
   ]
  },
  {
   "cell_type": "code",
   "execution_count": null,
   "metadata": {},
   "outputs": [],
   "source": [
    "#Модуль фильтрации по квантилю или по значению сходства. Если раскомментировать,\n",
    "#то ниже вместо \"25\" поставить rec_len[user]\n",
    "#rec_len = []\n",
    "#for scores in range(len(sim_cos)):\n",
    "    #quantile = np.quantile(sim_cos[scores], 0.9995)\n",
    "    #condition = lambda x: x >= quantile                                 \n",
    "    #filtered_scores = list(filter(condition, sim_cos[scores]))         \n",
    "    #len_filtered_scores = len(filtered_scores)                         \n",
    "    #rec_len.append(len_filtered_scores)"
   ]
  },
  {
   "cell_type": "code",
   "execution_count": null,
   "metadata": {},
   "outputs": [],
   "source": [
    "similarity_users = []\n",
    "for user in tqdm(range(len(sim_cos))):\n",
    "    a = heapq.nlargest(25, range(len(sim_cos[user])), sim_cos[user].take)  #rec_len[user] вместо числа пользователей, \n",
    "    sim = []                                                               #если фильтрация есть\n",
    "    for idx in a:\n",
    "        if idx != list_of_idx[user]:\n",
    "            sim_user = list_user[idx]\n",
    "            sim.append(sim_user)\n",
    "        else: \n",
    "            pass\n",
    "    similarity_users.append(sim)"
   ]
  },
  {
   "cell_type": "code",
   "execution_count": null,
   "metadata": {},
   "outputs": [],
   "source": [
    "similarity_threads = []\n",
    "for sim in tqdm(similarity_users):\n",
    "    list_sim = []\n",
    "    for user in sim:\n",
    "        sim_threads = data_mini['thread_uid'].loc[data_mini['user_uid'] == user].tolist()\n",
    "        list_sim_threads = [x for x in sim_threads if x in list_test_threads]\n",
    "        if len(list_sim_threads) != 0:\n",
    "            list_sim=list_sim+list_sim_threads\n",
    "        else: \n",
    "            pass\n",
    "    similarity_threads.append(list(set(list_sim)))"
   ]
  },
  {
   "cell_type": "code",
   "execution_count": null,
   "metadata": {},
   "outputs": [],
   "source": [
    "data_2['columns'] = data_2.groupby('user_uid_test')['thread_uid_test'].cumcount()"
   ]
  },
  {
   "cell_type": "code",
   "execution_count": null,
   "metadata": {},
   "outputs": [],
   "source": [
    "result = data_2.pivot(index='user_uid_test', columns='columns')"
   ]
  },
  {
   "cell_type": "code",
   "execution_count": null,
   "metadata": {},
   "outputs": [],
   "source": [
    "result['concat_col']=result.apply(lambda row: row.dropna().tolist(), axis=1)"
   ]
  },
  {
   "cell_type": "code",
   "execution_count": null,
   "metadata": {},
   "outputs": [],
   "source": [
    "df_test_threads = result[['concat_col']]"
   ]
  },
  {
   "cell_type": "code",
   "execution_count": null,
   "metadata": {},
   "outputs": [],
   "source": [
    "df_test_threads_f = df_test_threads.drop(list_drop, axis = 0)"
   ]
  },
  {
   "cell_type": "code",
   "execution_count": null,
   "metadata": {},
   "outputs": [],
   "source": [
    "df_test_threads_f['sim_threads'] = similarity_threads"
   ]
  },
  {
   "cell_type": "code",
   "execution_count": null,
   "metadata": {},
   "outputs": [],
   "source": [
    "raw_data_seen = raw_data.loc[raw_data['user_uid'].isin(list_test)]"
   ]
  },
  {
   "cell_type": "code",
   "execution_count": null,
   "metadata": {},
   "outputs": [],
   "source": [
    "raw_data_seen['columns'] = raw_data_seen.groupby('user_uid')['thread_uid'].cumcount()"
   ]
  },
  {
   "cell_type": "code",
   "execution_count": null,
   "metadata": {},
   "outputs": [],
   "source": [
    "result_2 = raw_data_seen.pivot(index='user_uid', columns='columns')"
   ]
  },
  {
   "cell_type": "code",
   "execution_count": null,
   "metadata": {},
   "outputs": [],
   "source": [
    "result_2['seen_threads']=result_2.apply(lambda row: row.dropna().tolist(), axis=1)"
   ]
  },
  {
   "cell_type": "code",
   "execution_count": null,
   "metadata": {},
   "outputs": [],
   "source": [
    "df_test_threads_f['seen_threads'] = result_2[['seen_threads']]"
   ]
  },
  {
   "cell_type": "code",
   "execution_count": null,
   "metadata": {},
   "outputs": [],
   "source": [
    "relev = []\n",
    "for x in range(df_test_threads_f.shape[0]):\n",
    "    A = list(set(df_test_threads_f['concat_col'].iloc[x]) & (set(df_test_threads_f['sim_threads'].iloc[x]) - set(df_test_threads_f['seen_threads'].iloc[x])))\n",
    "    relev.append(len(A))"
   ]
  },
  {
   "cell_type": "code",
   "execution_count": null,
   "metadata": {},
   "outputs": [],
   "source": [
    "df_test_threads_f['relevant'] = relev\n",
    "df_test_threads_f['len_concat'] = df_test_threads_f['concat_col'].apply(lambda x: len(x))\n",
    "df_test_threads_f['len_predict'] = df_test_threads_f['sim_threads'].apply(lambda x: len(x))"
   ]
  },
  {
   "cell_type": "code",
   "execution_count": null,
   "metadata": {},
   "outputs": [],
   "source": [
    "df_test_threads_f['precision'] = df_test_threads_f['relevant']/df_test_threads_f['len_predict']\n",
    "df_test_threads_f['recall'] = df_test_threads_f['relevant']/df_test_threads_f['len_concat']"
   ]
  },
  {
   "cell_type": "code",
   "execution_count": null,
   "metadata": {},
   "outputs": [],
   "source": [
    "Precision = df_test_threads_f[['precision']].mean()\n",
    "Precision"
   ]
  },
  {
   "cell_type": "code",
   "execution_count": null,
   "metadata": {},
   "outputs": [],
   "source": [
    "Recall = df_test_threads_f[['recall']].mean()\n",
    "Recall"
   ]
  },
  {
   "cell_type": "code",
   "execution_count": null,
   "metadata": {},
   "outputs": [],
   "source": []
  }
 ],
 "metadata": {
  "kernelspec": {
   "display_name": "Python 3",
   "language": "python",
   "name": "python3"
  },
  "language_info": {
   "codemirror_mode": {
    "name": "ipython",
    "version": 3
   },
   "file_extension": ".py",
   "mimetype": "text/x-python",
   "name": "python",
   "nbconvert_exporter": "python",
   "pygments_lexer": "ipython3",
   "version": "3.7.6"
  }
 },
 "nbformat": 4,
 "nbformat_minor": 4
}
